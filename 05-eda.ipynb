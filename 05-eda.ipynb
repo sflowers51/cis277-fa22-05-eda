{
  "cells": [
    {
      "cell_type": "code",
      "execution_count": 21,
      "metadata": {
        "id": "gIWe8vk2fPX7"
      },
      "outputs": [],
      "source": [
        "import pandas as pd"
      ]
    },
    {
      "cell_type": "markdown",
      "metadata": {
        "id": "4N0ty0ecrWcn"
      },
      "source": [
        "## 1. Import Data"
      ]
    },
    {
      "cell_type": "code",
      "execution_count": 22,
      "metadata": {
        "id": "qY7nb0rAgWrr"
      },
      "outputs": [],
      "source": [
        "df = pd.read_csv('ramen-ratings.csv')"
      ]
    },
    {
      "cell_type": "markdown",
      "metadata": {
        "id": "4titwvhQri0o"
      },
      "source": [
        "# 2. Inspect a portion of the dataset"
      ]
    },
    {
      "cell_type": "code",
      "execution_count": 23,
      "metadata": {
        "colab": {
          "base_uri": "https://localhost:8080/",
          "height": 359
        },
        "id": "eIkZ2SBehFrY",
        "outputId": "8952e428-b938-4933-b581-9be7ddf2cdea"
      },
      "outputs": [
        {
          "data": {
            "text/html": [
              "<div>\n",
              "<style scoped>\n",
              "    .dataframe tbody tr th:only-of-type {\n",
              "        vertical-align: middle;\n",
              "    }\n",
              "\n",
              "    .dataframe tbody tr th {\n",
              "        vertical-align: top;\n",
              "    }\n",
              "\n",
              "    .dataframe thead th {\n",
              "        text-align: right;\n",
              "    }\n",
              "</style>\n",
              "<table border=\"1\" class=\"dataframe\">\n",
              "  <thead>\n",
              "    <tr style=\"text-align: right;\">\n",
              "      <th></th>\n",
              "      <th>Review #</th>\n",
              "      <th>Brand</th>\n",
              "      <th>Variety</th>\n",
              "      <th>Style</th>\n",
              "      <th>Country</th>\n",
              "      <th>Stars</th>\n",
              "      <th>Top Ten</th>\n",
              "    </tr>\n",
              "  </thead>\n",
              "  <tbody>\n",
              "    <tr>\n",
              "      <th>0</th>\n",
              "      <td>2580</td>\n",
              "      <td>New Touch</td>\n",
              "      <td>T's Restaurant Tantanmen</td>\n",
              "      <td>Cup</td>\n",
              "      <td>Japan</td>\n",
              "      <td>3.75</td>\n",
              "      <td>NaN</td>\n",
              "    </tr>\n",
              "    <tr>\n",
              "      <th>1</th>\n",
              "      <td>2580</td>\n",
              "      <td>New Touch</td>\n",
              "      <td>T's Restaurant Tantanmen</td>\n",
              "      <td>Cup</td>\n",
              "      <td>Japan</td>\n",
              "      <td>3.75</td>\n",
              "      <td>NaN</td>\n",
              "    </tr>\n",
              "    <tr>\n",
              "      <th>2</th>\n",
              "      <td>2580</td>\n",
              "      <td>New Touch</td>\n",
              "      <td>T's Restaurant Tantanmen</td>\n",
              "      <td>Cup</td>\n",
              "      <td>Japan</td>\n",
              "      <td>3.75</td>\n",
              "      <td>NaN</td>\n",
              "    </tr>\n",
              "    <tr>\n",
              "      <th>3</th>\n",
              "      <td>2580</td>\n",
              "      <td>New Touch</td>\n",
              "      <td>T's Restaurant Tantanmen</td>\n",
              "      <td>Cup</td>\n",
              "      <td>Japan</td>\n",
              "      <td>3.75</td>\n",
              "      <td>NaN</td>\n",
              "    </tr>\n",
              "    <tr>\n",
              "      <th>4</th>\n",
              "      <td>2580</td>\n",
              "      <td>New Touch</td>\n",
              "      <td>T's Restaurant Tantanmen</td>\n",
              "      <td>Cup</td>\n",
              "      <td>Japan</td>\n",
              "      <td>3.75</td>\n",
              "      <td>NaN</td>\n",
              "    </tr>\n",
              "  </tbody>\n",
              "</table>\n",
              "</div>"
            ],
            "text/plain": [
              "   Review #      Brand                    Variety Style Country Stars Top Ten\n",
              "0      2580  New Touch  T's Restaurant Tantanmen    Cup   Japan  3.75     NaN\n",
              "1      2580  New Touch  T's Restaurant Tantanmen    Cup   Japan  3.75     NaN\n",
              "2      2580  New Touch  T's Restaurant Tantanmen    Cup   Japan  3.75     NaN\n",
              "3      2580  New Touch  T's Restaurant Tantanmen    Cup   Japan  3.75     NaN\n",
              "4      2580  New Touch  T's Restaurant Tantanmen    Cup   Japan  3.75     NaN"
            ]
          },
          "execution_count": 23,
          "metadata": {},
          "output_type": "execute_result"
        }
      ],
      "source": [
        "df.head()"
      ]
    },
    {
      "cell_type": "code",
      "execution_count": 24,
      "metadata": {
        "colab": {
          "base_uri": "https://localhost:8080/",
          "height": 359
        },
        "id": "_GK64h3eydeJ",
        "outputId": "799d5467-32e7-4dcb-b502-1db9f018cfd0"
      },
      "outputs": [
        {
          "data": {
            "text/html": [
              "<div>\n",
              "<style scoped>\n",
              "    .dataframe tbody tr th:only-of-type {\n",
              "        vertical-align: middle;\n",
              "    }\n",
              "\n",
              "    .dataframe tbody tr th {\n",
              "        vertical-align: top;\n",
              "    }\n",
              "\n",
              "    .dataframe thead th {\n",
              "        text-align: right;\n",
              "    }\n",
              "</style>\n",
              "<table border=\"1\" class=\"dataframe\">\n",
              "  <thead>\n",
              "    <tr style=\"text-align: right;\">\n",
              "      <th></th>\n",
              "      <th>Review #</th>\n",
              "      <th>Brand</th>\n",
              "      <th>Variety</th>\n",
              "      <th>Style</th>\n",
              "      <th>Country</th>\n",
              "      <th>Stars</th>\n",
              "      <th>Top Ten</th>\n",
              "    </tr>\n",
              "  </thead>\n",
              "  <tbody>\n",
              "    <tr>\n",
              "      <th>2574</th>\n",
              "      <td>10</td>\n",
              "      <td>Smack</td>\n",
              "      <td>Vegetable Beef</td>\n",
              "      <td>Pack</td>\n",
              "      <td>USA</td>\n",
              "      <td>1.5</td>\n",
              "      <td>NaN</td>\n",
              "    </tr>\n",
              "    <tr>\n",
              "      <th>2575</th>\n",
              "      <td>9</td>\n",
              "      <td>Sutah</td>\n",
              "      <td>Cup Noodle</td>\n",
              "      <td>Cup</td>\n",
              "      <td>South Korea</td>\n",
              "      <td>2</td>\n",
              "      <td>NaN</td>\n",
              "    </tr>\n",
              "    <tr>\n",
              "      <th>2576</th>\n",
              "      <td>8</td>\n",
              "      <td>Tung-I</td>\n",
              "      <td>Chinese Beef Instant Rice Noodle</td>\n",
              "      <td>Pack</td>\n",
              "      <td>Taiwan</td>\n",
              "      <td>3</td>\n",
              "      <td>NaN</td>\n",
              "    </tr>\n",
              "    <tr>\n",
              "      <th>2577</th>\n",
              "      <td>7</td>\n",
              "      <td>Ve Wong</td>\n",
              "      <td>Mushroom Pork</td>\n",
              "      <td>Pack</td>\n",
              "      <td>Vietnam</td>\n",
              "      <td>1</td>\n",
              "      <td>NaN</td>\n",
              "    </tr>\n",
              "    <tr>\n",
              "      <th>2578</th>\n",
              "      <td>6</td>\n",
              "      <td>Vifon</td>\n",
              "      <td>Nam Vang</td>\n",
              "      <td>Pack</td>\n",
              "      <td>Vietnam</td>\n",
              "      <td>2.5</td>\n",
              "      <td>NaN</td>\n",
              "    </tr>\n",
              "    <tr>\n",
              "      <th>2579</th>\n",
              "      <td>5</td>\n",
              "      <td>Vifon</td>\n",
              "      <td>Hu Tiu Nam Vang [\"Phnom Penh\" style] Asian Sty...</td>\n",
              "      <td>Bowl</td>\n",
              "      <td>Vietnam</td>\n",
              "      <td>3.5</td>\n",
              "      <td>NaN</td>\n",
              "    </tr>\n",
              "    <tr>\n",
              "      <th>2580</th>\n",
              "      <td>4</td>\n",
              "      <td>Wai Wai</td>\n",
              "      <td>Oriental Style Instant Noodles</td>\n",
              "      <td>Pack</td>\n",
              "      <td>Thailand</td>\n",
              "      <td>1</td>\n",
              "      <td>NaN</td>\n",
              "    </tr>\n",
              "    <tr>\n",
              "      <th>2581</th>\n",
              "      <td>3</td>\n",
              "      <td>Wai Wai</td>\n",
              "      <td>Tom Yum Shrimp</td>\n",
              "      <td>Pack</td>\n",
              "      <td>Thailand</td>\n",
              "      <td>2</td>\n",
              "      <td>NaN</td>\n",
              "    </tr>\n",
              "    <tr>\n",
              "      <th>2582</th>\n",
              "      <td>2</td>\n",
              "      <td>Wai Wai</td>\n",
              "      <td>Tom Yum Chili Flavor</td>\n",
              "      <td>Pack</td>\n",
              "      <td>Thailand</td>\n",
              "      <td>2</td>\n",
              "      <td>NaN</td>\n",
              "    </tr>\n",
              "    <tr>\n",
              "      <th>2583</th>\n",
              "      <td>1</td>\n",
              "      <td>Westbrae</td>\n",
              "      <td>Miso Ramen</td>\n",
              "      <td>Pack</td>\n",
              "      <td>USA</td>\n",
              "      <td>0.5</td>\n",
              "      <td>NaN</td>\n",
              "    </tr>\n",
              "  </tbody>\n",
              "</table>\n",
              "</div>"
            ],
            "text/plain": [
              "      Review #     Brand                                            Variety  \\\n",
              "2574        10     Smack                                     Vegetable Beef   \n",
              "2575         9     Sutah                                         Cup Noodle   \n",
              "2576         8    Tung-I                   Chinese Beef Instant Rice Noodle   \n",
              "2577         7   Ve Wong                                      Mushroom Pork   \n",
              "2578         6     Vifon                                           Nam Vang   \n",
              "2579         5     Vifon  Hu Tiu Nam Vang [\"Phnom Penh\" style] Asian Sty...   \n",
              "2580         4   Wai Wai                     Oriental Style Instant Noodles   \n",
              "2581         3   Wai Wai                                     Tom Yum Shrimp   \n",
              "2582         2   Wai Wai                               Tom Yum Chili Flavor   \n",
              "2583         1  Westbrae                                         Miso Ramen   \n",
              "\n",
              "     Style      Country Stars Top Ten  \n",
              "2574  Pack          USA   1.5     NaN  \n",
              "2575   Cup  South Korea     2     NaN  \n",
              "2576  Pack       Taiwan     3     NaN  \n",
              "2577  Pack      Vietnam     1     NaN  \n",
              "2578  Pack      Vietnam   2.5     NaN  \n",
              "2579  Bowl      Vietnam   3.5     NaN  \n",
              "2580  Pack     Thailand     1     NaN  \n",
              "2581  Pack     Thailand     2     NaN  \n",
              "2582  Pack     Thailand     2     NaN  \n",
              "2583  Pack          USA   0.5     NaN  "
            ]
          },
          "execution_count": 24,
          "metadata": {},
          "output_type": "execute_result"
        }
      ],
      "source": [
        "df.tail(10)"
      ]
    },
    {
      "cell_type": "markdown",
      "metadata": {
        "id": "AoN1t0yTr3vt"
      },
      "source": [
        "# 3. Shape and Basic Info about the dataset"
      ]
    },
    {
      "cell_type": "code",
      "execution_count": 25,
      "metadata": {
        "colab": {
          "base_uri": "https://localhost:8080/"
        },
        "id": "eR6x6BUwhptZ",
        "outputId": "e2b94951-3d5d-47bf-e3e4-c5c571d2d879"
      },
      "outputs": [
        {
          "data": {
            "text/plain": [
              "(2584, 7)"
            ]
          },
          "execution_count": 25,
          "metadata": {},
          "output_type": "execute_result"
        }
      ],
      "source": [
        "df.shape"
      ]
    },
    {
      "cell_type": "code",
      "execution_count": 26,
      "metadata": {
        "colab": {
          "base_uri": "https://localhost:8080/"
        },
        "id": "kx4xO7-biEGK",
        "outputId": "a5d0a366-f1eb-46e6-a56b-59699a4d9fad"
      },
      "outputs": [
        {
          "name": "stdout",
          "output_type": "stream",
          "text": [
            "<class 'pandas.core.frame.DataFrame'>\n",
            "RangeIndex: 2584 entries, 0 to 2583\n",
            "Data columns (total 7 columns):\n",
            " #   Column    Non-Null Count  Dtype \n",
            "---  ------    --------------  ----- \n",
            " 0   Review #  2584 non-null   int64 \n",
            " 1   Brand     2584 non-null   object\n",
            " 2   Variety   2584 non-null   object\n",
            " 3   Style     2582 non-null   object\n",
            " 4   Country   2584 non-null   object\n",
            " 5   Stars     2584 non-null   object\n",
            " 6   Top Ten   41 non-null     object\n",
            "dtypes: int64(1), object(6)\n",
            "memory usage: 141.4+ KB\n"
          ]
        }
      ],
      "source": [
        "df.info()"
      ]
    },
    {
      "cell_type": "code",
      "execution_count": 27,
      "metadata": {},
      "outputs": [
        {
          "data": {
            "text/plain": [
              "array(['3.75', '1', '2.25', '2.75', '4.75', '4', '0.25', '2.5', '5',\n",
              "       '4.25', '4.5', '3.5', 'Unrated', '1.5', '3.25', '2', '0', '3',\n",
              "       '0.5', '4.00', '5.0', '3.50', '3.8', '4.3', '2.3', '5.00', '3.3',\n",
              "       '4.0', '3.00', '1.75', '3.0', '4.50', '0.75', '1.25', '1.1', '2.1',\n",
              "       '0.9', '3.1', '4.125', '3.125', '2.125', '2.9', '0.1', '2.8',\n",
              "       '3.7', '3.4', '3.6', '2.85', '3.2', '3.65', '1.8'], dtype=object)"
            ]
          },
          "execution_count": 27,
          "metadata": {},
          "output_type": "execute_result"
        }
      ],
      "source": [
        "#df.Stars.value_counts().sort_values().\n",
        "df.Stars.unique()"
      ]
    },
    {
      "cell_type": "markdown",
      "metadata": {
        "id": "8qYR0y0MsDz_"
      },
      "source": [
        "# 4. Look for Duplicates"
      ]
    },
    {
      "cell_type": "code",
      "execution_count": 28,
      "metadata": {},
      "outputs": [
        {
          "data": {
            "text/plain": [
              "4"
            ]
          },
          "execution_count": 28,
          "metadata": {},
          "output_type": "execute_result"
        }
      ],
      "source": [
        "#df.duplicated()\n",
        "df.duplicated().sum()"
      ]
    },
    {
      "cell_type": "code",
      "execution_count": 32,
      "metadata": {},
      "outputs": [
        {
          "data": {
            "text/html": [
              "<div>\n",
              "<style scoped>\n",
              "    .dataframe tbody tr th:only-of-type {\n",
              "        vertical-align: middle;\n",
              "    }\n",
              "\n",
              "    .dataframe tbody tr th {\n",
              "        vertical-align: top;\n",
              "    }\n",
              "\n",
              "    .dataframe thead th {\n",
              "        text-align: right;\n",
              "    }\n",
              "</style>\n",
              "<table border=\"1\" class=\"dataframe\">\n",
              "  <thead>\n",
              "    <tr style=\"text-align: right;\">\n",
              "      <th></th>\n",
              "      <th>Review #</th>\n",
              "      <th>Brand</th>\n",
              "      <th>Variety</th>\n",
              "      <th>Style</th>\n",
              "      <th>Country</th>\n",
              "      <th>Stars</th>\n",
              "      <th>Top Ten</th>\n",
              "    </tr>\n",
              "  </thead>\n",
              "  <tbody>\n",
              "    <tr>\n",
              "      <th>0</th>\n",
              "      <td>2580</td>\n",
              "      <td>New Touch</td>\n",
              "      <td>T's Restaurant Tantanmen</td>\n",
              "      <td>Cup</td>\n",
              "      <td>Japan</td>\n",
              "      <td>3.75</td>\n",
              "      <td>NaN</td>\n",
              "    </tr>\n",
              "    <tr>\n",
              "      <th>5</th>\n",
              "      <td>2579</td>\n",
              "      <td>Just Way</td>\n",
              "      <td>Noodles Spicy Hot Sesame Spicy Hot Sesame Guan...</td>\n",
              "      <td>Pack</td>\n",
              "      <td>Taiwan</td>\n",
              "      <td>1</td>\n",
              "      <td>NaN</td>\n",
              "    </tr>\n",
              "    <tr>\n",
              "      <th>6</th>\n",
              "      <td>2578</td>\n",
              "      <td>Nissin</td>\n",
              "      <td>Cup Noodles Chicken Vegetable</td>\n",
              "      <td>Cup</td>\n",
              "      <td>USA</td>\n",
              "      <td>2.25</td>\n",
              "      <td>NaN</td>\n",
              "    </tr>\n",
              "    <tr>\n",
              "      <th>7</th>\n",
              "      <td>2577</td>\n",
              "      <td>Wei Lih</td>\n",
              "      <td>GGE Ramen Snack Tomato Flavor</td>\n",
              "      <td>Pack</td>\n",
              "      <td>Taiwan</td>\n",
              "      <td>2.75</td>\n",
              "      <td>NaN</td>\n",
              "    </tr>\n",
              "    <tr>\n",
              "      <th>8</th>\n",
              "      <td>2576</td>\n",
              "      <td>Ching's Secret</td>\n",
              "      <td>Singapore Curry</td>\n",
              "      <td>Pack</td>\n",
              "      <td>India</td>\n",
              "      <td>3.75</td>\n",
              "      <td>NaN</td>\n",
              "    </tr>\n",
              "    <tr>\n",
              "      <th>...</th>\n",
              "      <td>...</td>\n",
              "      <td>...</td>\n",
              "      <td>...</td>\n",
              "      <td>...</td>\n",
              "      <td>...</td>\n",
              "      <td>...</td>\n",
              "      <td>...</td>\n",
              "    </tr>\n",
              "    <tr>\n",
              "      <th>2579</th>\n",
              "      <td>5</td>\n",
              "      <td>Vifon</td>\n",
              "      <td>Hu Tiu Nam Vang [\"Phnom Penh\" style] Asian Sty...</td>\n",
              "      <td>Bowl</td>\n",
              "      <td>Vietnam</td>\n",
              "      <td>3.5</td>\n",
              "      <td>NaN</td>\n",
              "    </tr>\n",
              "    <tr>\n",
              "      <th>2580</th>\n",
              "      <td>4</td>\n",
              "      <td>Wai Wai</td>\n",
              "      <td>Oriental Style Instant Noodles</td>\n",
              "      <td>Pack</td>\n",
              "      <td>Thailand</td>\n",
              "      <td>1</td>\n",
              "      <td>NaN</td>\n",
              "    </tr>\n",
              "    <tr>\n",
              "      <th>2581</th>\n",
              "      <td>3</td>\n",
              "      <td>Wai Wai</td>\n",
              "      <td>Tom Yum Shrimp</td>\n",
              "      <td>Pack</td>\n",
              "      <td>Thailand</td>\n",
              "      <td>2</td>\n",
              "      <td>NaN</td>\n",
              "    </tr>\n",
              "    <tr>\n",
              "      <th>2582</th>\n",
              "      <td>2</td>\n",
              "      <td>Wai Wai</td>\n",
              "      <td>Tom Yum Chili Flavor</td>\n",
              "      <td>Pack</td>\n",
              "      <td>Thailand</td>\n",
              "      <td>2</td>\n",
              "      <td>NaN</td>\n",
              "    </tr>\n",
              "    <tr>\n",
              "      <th>2583</th>\n",
              "      <td>1</td>\n",
              "      <td>Westbrae</td>\n",
              "      <td>Miso Ramen</td>\n",
              "      <td>Pack</td>\n",
              "      <td>USA</td>\n",
              "      <td>0.5</td>\n",
              "      <td>NaN</td>\n",
              "    </tr>\n",
              "  </tbody>\n",
              "</table>\n",
              "<p>2580 rows × 7 columns</p>\n",
              "</div>"
            ],
            "text/plain": [
              "      Review #           Brand  \\\n",
              "0         2580       New Touch   \n",
              "5         2579        Just Way   \n",
              "6         2578          Nissin   \n",
              "7         2577         Wei Lih   \n",
              "8         2576  Ching's Secret   \n",
              "...        ...             ...   \n",
              "2579         5           Vifon   \n",
              "2580         4         Wai Wai   \n",
              "2581         3         Wai Wai   \n",
              "2582         2         Wai Wai   \n",
              "2583         1        Westbrae   \n",
              "\n",
              "                                                Variety Style   Country Stars  \\\n",
              "0                             T's Restaurant Tantanmen    Cup     Japan  3.75   \n",
              "5     Noodles Spicy Hot Sesame Spicy Hot Sesame Guan...  Pack    Taiwan     1   \n",
              "6                         Cup Noodles Chicken Vegetable   Cup       USA  2.25   \n",
              "7                         GGE Ramen Snack Tomato Flavor  Pack    Taiwan  2.75   \n",
              "8                                       Singapore Curry  Pack     India  3.75   \n",
              "...                                                 ...   ...       ...   ...   \n",
              "2579  Hu Tiu Nam Vang [\"Phnom Penh\" style] Asian Sty...  Bowl   Vietnam   3.5   \n",
              "2580                     Oriental Style Instant Noodles  Pack  Thailand     1   \n",
              "2581                                     Tom Yum Shrimp  Pack  Thailand     2   \n",
              "2582                               Tom Yum Chili Flavor  Pack  Thailand     2   \n",
              "2583                                         Miso Ramen  Pack       USA   0.5   \n",
              "\n",
              "     Top Ten  \n",
              "0        NaN  \n",
              "5        NaN  \n",
              "6        NaN  \n",
              "7        NaN  \n",
              "8        NaN  \n",
              "...      ...  \n",
              "2579     NaN  \n",
              "2580     NaN  \n",
              "2581     NaN  \n",
              "2582     NaN  \n",
              "2583     NaN  \n",
              "\n",
              "[2580 rows x 7 columns]"
            ]
          },
          "execution_count": 32,
          "metadata": {},
          "output_type": "execute_result"
        }
      ],
      "source": [
        "df.drop_duplicates(inplace = True)\n",
        "df\n",
        "\n"
      ]
    },
    {
      "cell_type": "markdown",
      "metadata": {
        "id": "v49n0pjypU0H"
      },
      "source": [
        "# 5. Fix Types"
      ]
    },
    {
      "cell_type": "code",
      "execution_count": 33,
      "metadata": {
        "colab": {
          "base_uri": "https://localhost:8080/",
          "height": 297
        },
        "id": "XOHIrWXVvjU0",
        "outputId": "fee97ec9-8fae-4b4c-b502-0dd91e3aeff5"
      },
      "outputs": [
        {
          "name": "stdout",
          "output_type": "stream",
          "text": [
            "<class 'pandas.core.frame.DataFrame'>\n",
            "Int64Index: 2580 entries, 0 to 2583\n",
            "Data columns (total 7 columns):\n",
            " #   Column    Non-Null Count  Dtype \n",
            "---  ------    --------------  ----- \n",
            " 0   Review #  2580 non-null   int64 \n",
            " 1   Brand     2580 non-null   object\n",
            " 2   Variety   2580 non-null   object\n",
            " 3   Style     2578 non-null   object\n",
            " 4   Country   2580 non-null   object\n",
            " 5   Stars     2580 non-null   object\n",
            " 6   Top Ten   41 non-null     object\n",
            "dtypes: int64(1), object(6)\n",
            "memory usage: 161.2+ KB\n"
          ]
        }
      ],
      "source": [
        "df.info()"
      ]
    },
    {
      "cell_type": "code",
      "execution_count": 40,
      "metadata": {
        "colab": {
          "base_uri": "https://localhost:8080/",
          "height": 307
        },
        "id": "0JYOdwITv1NB",
        "outputId": "820516fd-2735-4e0a-da13-d0de7348ca62"
      },
      "outputs": [
        {
          "data": {
            "text/html": [
              "<div>\n",
              "<style scoped>\n",
              "    .dataframe tbody tr th:only-of-type {\n",
              "        vertical-align: middle;\n",
              "    }\n",
              "\n",
              "    .dataframe tbody tr th {\n",
              "        vertical-align: top;\n",
              "    }\n",
              "\n",
              "    .dataframe thead th {\n",
              "        text-align: right;\n",
              "    }\n",
              "</style>\n",
              "<table border=\"1\" class=\"dataframe\">\n",
              "  <thead>\n",
              "    <tr style=\"text-align: right;\">\n",
              "      <th></th>\n",
              "      <th>Review #</th>\n",
              "      <th>Brand</th>\n",
              "      <th>Variety</th>\n",
              "      <th>Style</th>\n",
              "      <th>Country</th>\n",
              "      <th>Stars</th>\n",
              "      <th>Top Ten</th>\n",
              "    </tr>\n",
              "  </thead>\n",
              "  <tbody>\n",
              "  </tbody>\n",
              "</table>\n",
              "</div>"
            ],
            "text/plain": [
              "Empty DataFrame\n",
              "Columns: [Review #, Brand, Variety, Style, Country, Stars, Top Ten]\n",
              "Index: []"
            ]
          },
          "execution_count": 40,
          "metadata": {},
          "output_type": "execute_result"
        }
      ],
      "source": [
        "\n",
        "#replacing the unrated value \n",
        "#df.Stars.replace(\"Unrated\", pd.nan)\n",
        "df.Stars.replace(\"Unrated\", 0, inplace = True)\n",
        "\n",
        "df[ df.Stars == \"Unrated\"]"
      ]
    },
    {
      "cell_type": "code",
      "execution_count": 48,
      "metadata": {
        "colab": {
          "base_uri": "https://localhost:8080/"
        },
        "id": "YzL33G5QqUe_",
        "outputId": "b25b88a7-ca72-41c0-9079-c7078f5e3446"
      },
      "outputs": [],
      "source": [
        "#changing data type method 1\n",
        "df.Stars = pd.to_numeric(df.Stars)\n"
      ]
    },
    {
      "cell_type": "code",
      "execution_count": 50,
      "metadata": {
        "id": "DEspLY0DqUHR"
      },
      "outputs": [
        {
          "ename": "NameError",
          "evalue": "name 'Float' is not defined",
          "output_type": "error",
          "traceback": [
            "\u001b[1;31m---------------------------------------------------------------------------\u001b[0m",
            "\u001b[1;31mNameError\u001b[0m                                 Traceback (most recent call last)",
            "\u001b[1;32m<ipython-input-50-408056fb4d54>\u001b[0m in \u001b[0;36m<module>\u001b[1;34m\u001b[0m\n\u001b[0;32m      1\u001b[0m \u001b[1;31m#changing data type method 2\u001b[0m\u001b[1;33m\u001b[0m\u001b[1;33m\u001b[0m\u001b[1;33m\u001b[0m\u001b[0m\n\u001b[1;32m----> 2\u001b[1;33m \u001b[0mdf\u001b[0m\u001b[1;33m.\u001b[0m\u001b[0mStars\u001b[0m\u001b[1;33m.\u001b[0m\u001b[0mastype\u001b[0m\u001b[1;33m(\u001b[0m\u001b[0mFloat\u001b[0m\u001b[1;33m)\u001b[0m\u001b[1;33m\u001b[0m\u001b[1;33m\u001b[0m\u001b[0m\n\u001b[0m",
            "\u001b[1;31mNameError\u001b[0m: name 'Float' is not defined"
          ]
        }
      ],
      "source": [
        "#changing data type method 2\n",
        "df.Stars.astype(Float)\n"
      ]
    },
    {
      "cell_type": "code",
      "execution_count": null,
      "metadata": {
        "id": "hMtJDL25uPs0"
      },
      "outputs": [],
      "source": []
    },
    {
      "cell_type": "markdown",
      "metadata": {
        "id": "r1CzPaIEtsA9"
      },
      "source": [
        "# 6. Summarise Numeric Columns"
      ]
    },
    {
      "cell_type": "code",
      "execution_count": 51,
      "metadata": {
        "colab": {
          "base_uri": "https://localhost:8080/",
          "height": 297
        },
        "id": "vP-BSVdGmFSq",
        "outputId": "a2f8316b-06bc-44ba-923f-ce2c26e511d9"
      },
      "outputs": [
        {
          "data": {
            "text/html": [
              "<div>\n",
              "<style scoped>\n",
              "    .dataframe tbody tr th:only-of-type {\n",
              "        vertical-align: middle;\n",
              "    }\n",
              "\n",
              "    .dataframe tbody tr th {\n",
              "        vertical-align: top;\n",
              "    }\n",
              "\n",
              "    .dataframe thead th {\n",
              "        text-align: right;\n",
              "    }\n",
              "</style>\n",
              "<table border=\"1\" class=\"dataframe\">\n",
              "  <thead>\n",
              "    <tr style=\"text-align: right;\">\n",
              "      <th></th>\n",
              "      <th>Review #</th>\n",
              "      <th>Stars</th>\n",
              "    </tr>\n",
              "  </thead>\n",
              "  <tbody>\n",
              "    <tr>\n",
              "      <th>count</th>\n",
              "      <td>2580.000000</td>\n",
              "      <td>2580.000000</td>\n",
              "    </tr>\n",
              "    <tr>\n",
              "      <th>mean</th>\n",
              "      <td>1290.500000</td>\n",
              "      <td>3.650426</td>\n",
              "    </tr>\n",
              "    <tr>\n",
              "      <th>std</th>\n",
              "      <td>744.926171</td>\n",
              "      <td>1.022358</td>\n",
              "    </tr>\n",
              "    <tr>\n",
              "      <th>min</th>\n",
              "      <td>1.000000</td>\n",
              "      <td>0.000000</td>\n",
              "    </tr>\n",
              "    <tr>\n",
              "      <th>25%</th>\n",
              "      <td>645.750000</td>\n",
              "      <td>3.250000</td>\n",
              "    </tr>\n",
              "    <tr>\n",
              "      <th>50%</th>\n",
              "      <td>1290.500000</td>\n",
              "      <td>3.750000</td>\n",
              "    </tr>\n",
              "    <tr>\n",
              "      <th>75%</th>\n",
              "      <td>1935.250000</td>\n",
              "      <td>4.250000</td>\n",
              "    </tr>\n",
              "    <tr>\n",
              "      <th>max</th>\n",
              "      <td>2580.000000</td>\n",
              "      <td>5.000000</td>\n",
              "    </tr>\n",
              "  </tbody>\n",
              "</table>\n",
              "</div>"
            ],
            "text/plain": [
              "          Review #        Stars\n",
              "count  2580.000000  2580.000000\n",
              "mean   1290.500000     3.650426\n",
              "std     744.926171     1.022358\n",
              "min       1.000000     0.000000\n",
              "25%     645.750000     3.250000\n",
              "50%    1290.500000     3.750000\n",
              "75%    1935.250000     4.250000\n",
              "max    2580.000000     5.000000"
            ]
          },
          "execution_count": 51,
          "metadata": {},
          "output_type": "execute_result"
        }
      ],
      "source": [
        "df.describe()"
      ]
    },
    {
      "cell_type": "markdown",
      "metadata": {
        "id": "f0KI193RuKht"
      },
      "source": [
        "# 7. Summarise Categorical Columns"
      ]
    },
    {
      "cell_type": "code",
      "execution_count": 52,
      "metadata": {
        "colab": {
          "base_uri": "https://localhost:8080/"
        },
        "id": "uowkED0rm3gT",
        "outputId": "4f056f2d-af36-4006-98ed-29e4883189e3"
      },
      "outputs": [
        {
          "data": {
            "text/plain": [
              "Index(['Review #', 'Brand', 'Variety', 'Style', 'Country', 'Stars', 'Top Ten'], dtype='object')"
            ]
          },
          "execution_count": 52,
          "metadata": {},
          "output_type": "execute_result"
        }
      ],
      "source": [
        "df.columns"
      ]
    },
    {
      "cell_type": "code",
      "execution_count": 53,
      "metadata": {
        "colab": {
          "base_uri": "https://localhost:8080/"
        },
        "id": "znhgtZ10m_7h",
        "outputId": "90d06806-bf76-4927-e7cb-95345cdf7db0"
      },
      "outputs": [
        {
          "data": {
            "text/plain": [
              "Nissin            381\n",
              "Nongshim           98\n",
              "Maruchan           76\n",
              "Mama               71\n",
              "Paldo              66\n",
              "                 ... \n",
              "Right Foods         1\n",
              "Sokensha            1\n",
              "Daraz               1\n",
              "Nakaya Shouten      1\n",
              "Chikara             1\n",
              "Name: Brand, Length: 355, dtype: int64"
            ]
          },
          "execution_count": 53,
          "metadata": {},
          "output_type": "execute_result"
        }
      ],
      "source": [
        "df.Brand.value_counts()"
      ]
    },
    {
      "cell_type": "code",
      "execution_count": 56,
      "metadata": {
        "colab": {
          "base_uri": "https://localhost:8080/"
        },
        "id": "585hQnjcy5pS",
        "outputId": "9bcb55b1-ad8d-4e87-e6c4-0709241cab40"
      },
      "outputs": [
        {
          "data": {
            "text/plain": [
              "Beef                                               7\n",
              "Chicken                                            7\n",
              "Yakisoba                                           6\n",
              "Artificial Chicken                                 6\n",
              "Vegetable                                          6\n",
              "                                                  ..\n",
              "Spice Seafood                                      1\n",
              "Instant Cup Noodles Seafood Pad Kee Mao Flavour    1\n",
              "Demae Iccho XO Sauce Seafood Flavour               1\n",
              "Disney Cuties Instant Noodle Roast Pork Flavour    1\n",
              "Supreme Seafood Flavor Big Cup                     1\n",
              "Name: Variety, Length: 2413, dtype: int64"
            ]
          },
          "execution_count": 56,
          "metadata": {},
          "output_type": "execute_result"
        }
      ],
      "source": [
        "df.Variety.value_counts()"
      ]
    },
    {
      "cell_type": "code",
      "execution_count": 57,
      "metadata": {},
      "outputs": [
        {
          "data": {
            "text/plain": [
              "Japan            352\n",
              "USA              323\n",
              "South Korea      309\n",
              "Taiwan           224\n",
              "Thailand         191\n",
              "China            169\n",
              "Malaysia         156\n",
              "Hong Kong        137\n",
              "Indonesia        126\n",
              "Singapore        109\n",
              "Vietnam          108\n",
              "UK                69\n",
              "Philippines       47\n",
              "Canada            41\n",
              "India             31\n",
              "Germany           27\n",
              "Mexico            25\n",
              "Australia         22\n",
              "Netherlands       15\n",
              "Myanmar           14\n",
              "Nepal             14\n",
              "Pakistan           9\n",
              "Hungary            9\n",
              "Bangladesh         7\n",
              "Colombia           6\n",
              "Brazil             5\n",
              "Cambodia           5\n",
              "Holland            4\n",
              "Fiji               4\n",
              "Poland             4\n",
              "Dubai              3\n",
              "Sweden             3\n",
              "Finland            3\n",
              "Sarawak            3\n",
              "Estonia            2\n",
              "Ghana              2\n",
              "United States      1\n",
              "Nigeria            1\n",
              "Name: Country, dtype: int64"
            ]
          },
          "execution_count": 57,
          "metadata": {},
          "output_type": "execute_result"
        }
      ],
      "source": [
        "df.Country.value_counts()"
      ]
    },
    {
      "cell_type": "code",
      "execution_count": 68,
      "metadata": {},
      "outputs": [
        {
          "data": {
            "text/plain": [
              "Brand                           Kamfen\n",
              "Variety    Wonton Noodles Beef Flavour\n",
              "Style                             Bowl\n",
              "Country                            USA\n",
              "Stars                             3.75\n",
              "Top Ten                            NaN\n",
              "Name: 578, dtype: object"
            ]
          },
          "execution_count": 68,
          "metadata": {},
          "output_type": "execute_result"
        }
      ],
      "source": [
        "#there are multiple entries of the US in different ways, this should fix it\n",
        "#df[df.Country == \"United States\"]\n",
        "\n",
        "df.loc[578, \"Country\"] = \"USA\"\n",
        "\n",
        "#df[df.Country == \"United States\"]\n",
        "\n",
        "df.loc[578]\n"
      ]
    },
    {
      "cell_type": "markdown",
      "metadata": {
        "id": "GY36cdUtstuC"
      },
      "source": [
        "# 8. Drop and Rename Columns"
      ]
    },
    {
      "cell_type": "code",
      "execution_count": 58,
      "metadata": {
        "colab": {
          "base_uri": "https://localhost:8080/"
        },
        "id": "DLCMcPjQmkyL",
        "outputId": "3f0b509d-bc3c-44e1-c546-ee9e176fc276"
      },
      "outputs": [
        {
          "data": {
            "text/plain": [
              "Index(['Review #', 'Brand', 'Variety', 'Style', 'Country', 'Stars', 'Top Ten'], dtype='object')"
            ]
          },
          "execution_count": 58,
          "metadata": {},
          "output_type": "execute_result"
        }
      ],
      "source": [
        "df.columns"
      ]
    },
    {
      "cell_type": "code",
      "execution_count": 59,
      "metadata": {
        "id": "IxuZ62c3mNRV"
      },
      "outputs": [
        {
          "data": {
            "text/html": [
              "<div>\n",
              "<style scoped>\n",
              "    .dataframe tbody tr th:only-of-type {\n",
              "        vertical-align: middle;\n",
              "    }\n",
              "\n",
              "    .dataframe tbody tr th {\n",
              "        vertical-align: top;\n",
              "    }\n",
              "\n",
              "    .dataframe thead th {\n",
              "        text-align: right;\n",
              "    }\n",
              "</style>\n",
              "<table border=\"1\" class=\"dataframe\">\n",
              "  <thead>\n",
              "    <tr style=\"text-align: right;\">\n",
              "      <th></th>\n",
              "      <th>Brand</th>\n",
              "      <th>Variety</th>\n",
              "      <th>Style</th>\n",
              "      <th>Country</th>\n",
              "      <th>Stars</th>\n",
              "      <th>Top Ten</th>\n",
              "    </tr>\n",
              "  </thead>\n",
              "  <tbody>\n",
              "    <tr>\n",
              "      <th>0</th>\n",
              "      <td>New Touch</td>\n",
              "      <td>T's Restaurant Tantanmen</td>\n",
              "      <td>Cup</td>\n",
              "      <td>Japan</td>\n",
              "      <td>3.75</td>\n",
              "      <td>NaN</td>\n",
              "    </tr>\n",
              "    <tr>\n",
              "      <th>5</th>\n",
              "      <td>Just Way</td>\n",
              "      <td>Noodles Spicy Hot Sesame Spicy Hot Sesame Guan...</td>\n",
              "      <td>Pack</td>\n",
              "      <td>Taiwan</td>\n",
              "      <td>1.00</td>\n",
              "      <td>NaN</td>\n",
              "    </tr>\n",
              "    <tr>\n",
              "      <th>6</th>\n",
              "      <td>Nissin</td>\n",
              "      <td>Cup Noodles Chicken Vegetable</td>\n",
              "      <td>Cup</td>\n",
              "      <td>USA</td>\n",
              "      <td>2.25</td>\n",
              "      <td>NaN</td>\n",
              "    </tr>\n",
              "    <tr>\n",
              "      <th>7</th>\n",
              "      <td>Wei Lih</td>\n",
              "      <td>GGE Ramen Snack Tomato Flavor</td>\n",
              "      <td>Pack</td>\n",
              "      <td>Taiwan</td>\n",
              "      <td>2.75</td>\n",
              "      <td>NaN</td>\n",
              "    </tr>\n",
              "    <tr>\n",
              "      <th>8</th>\n",
              "      <td>Ching's Secret</td>\n",
              "      <td>Singapore Curry</td>\n",
              "      <td>Pack</td>\n",
              "      <td>India</td>\n",
              "      <td>3.75</td>\n",
              "      <td>NaN</td>\n",
              "    </tr>\n",
              "    <tr>\n",
              "      <th>...</th>\n",
              "      <td>...</td>\n",
              "      <td>...</td>\n",
              "      <td>...</td>\n",
              "      <td>...</td>\n",
              "      <td>...</td>\n",
              "      <td>...</td>\n",
              "    </tr>\n",
              "    <tr>\n",
              "      <th>2579</th>\n",
              "      <td>Vifon</td>\n",
              "      <td>Hu Tiu Nam Vang [\"Phnom Penh\" style] Asian Sty...</td>\n",
              "      <td>Bowl</td>\n",
              "      <td>Vietnam</td>\n",
              "      <td>3.50</td>\n",
              "      <td>NaN</td>\n",
              "    </tr>\n",
              "    <tr>\n",
              "      <th>2580</th>\n",
              "      <td>Wai Wai</td>\n",
              "      <td>Oriental Style Instant Noodles</td>\n",
              "      <td>Pack</td>\n",
              "      <td>Thailand</td>\n",
              "      <td>1.00</td>\n",
              "      <td>NaN</td>\n",
              "    </tr>\n",
              "    <tr>\n",
              "      <th>2581</th>\n",
              "      <td>Wai Wai</td>\n",
              "      <td>Tom Yum Shrimp</td>\n",
              "      <td>Pack</td>\n",
              "      <td>Thailand</td>\n",
              "      <td>2.00</td>\n",
              "      <td>NaN</td>\n",
              "    </tr>\n",
              "    <tr>\n",
              "      <th>2582</th>\n",
              "      <td>Wai Wai</td>\n",
              "      <td>Tom Yum Chili Flavor</td>\n",
              "      <td>Pack</td>\n",
              "      <td>Thailand</td>\n",
              "      <td>2.00</td>\n",
              "      <td>NaN</td>\n",
              "    </tr>\n",
              "    <tr>\n",
              "      <th>2583</th>\n",
              "      <td>Westbrae</td>\n",
              "      <td>Miso Ramen</td>\n",
              "      <td>Pack</td>\n",
              "      <td>USA</td>\n",
              "      <td>0.50</td>\n",
              "      <td>NaN</td>\n",
              "    </tr>\n",
              "  </tbody>\n",
              "</table>\n",
              "<p>2580 rows × 6 columns</p>\n",
              "</div>"
            ],
            "text/plain": [
              "               Brand                                            Variety Style  \\\n",
              "0          New Touch                          T's Restaurant Tantanmen    Cup   \n",
              "5           Just Way  Noodles Spicy Hot Sesame Spicy Hot Sesame Guan...  Pack   \n",
              "6             Nissin                      Cup Noodles Chicken Vegetable   Cup   \n",
              "7            Wei Lih                      GGE Ramen Snack Tomato Flavor  Pack   \n",
              "8     Ching's Secret                                    Singapore Curry  Pack   \n",
              "...              ...                                                ...   ...   \n",
              "2579           Vifon  Hu Tiu Nam Vang [\"Phnom Penh\" style] Asian Sty...  Bowl   \n",
              "2580         Wai Wai                     Oriental Style Instant Noodles  Pack   \n",
              "2581         Wai Wai                                     Tom Yum Shrimp  Pack   \n",
              "2582         Wai Wai                               Tom Yum Chili Flavor  Pack   \n",
              "2583        Westbrae                                         Miso Ramen  Pack   \n",
              "\n",
              "       Country  Stars Top Ten  \n",
              "0        Japan   3.75     NaN  \n",
              "5       Taiwan   1.00     NaN  \n",
              "6          USA   2.25     NaN  \n",
              "7       Taiwan   2.75     NaN  \n",
              "8        India   3.75     NaN  \n",
              "...        ...    ...     ...  \n",
              "2579   Vietnam   3.50     NaN  \n",
              "2580  Thailand   1.00     NaN  \n",
              "2581  Thailand   2.00     NaN  \n",
              "2582  Thailand   2.00     NaN  \n",
              "2583       USA   0.50     NaN  \n",
              "\n",
              "[2580 rows x 6 columns]"
            ]
          },
          "execution_count": 59,
          "metadata": {},
          "output_type": "execute_result"
        }
      ],
      "source": [
        "#axis 1 is a column\n",
        "df = df.drop(\"Review #\", axis = 1)\n",
        "df"
      ]
    },
    {
      "cell_type": "code",
      "execution_count": 69,
      "metadata": {
        "id": "F4no8Pqemvj8"
      },
      "outputs": [
        {
          "data": {
            "text/plain": [
              "Index(['Brand', 'Variety', 'Style', 'Country', 'Stars', 'Top Ten'], dtype='object')"
            ]
          },
          "execution_count": 69,
          "metadata": {},
          "output_type": "execute_result"
        }
      ],
      "source": [
        "df.columns"
      ]
    },
    {
      "cell_type": "code",
      "execution_count": 72,
      "metadata": {
        "colab": {
          "base_uri": "https://localhost:8080/"
        },
        "id": "LCD6_V7-wL9K",
        "outputId": "b1f2f401-14a1-4160-b317-93364deea387"
      },
      "outputs": [
        {
          "data": {
            "text/html": [
              "<div>\n",
              "<style scoped>\n",
              "    .dataframe tbody tr th:only-of-type {\n",
              "        vertical-align: middle;\n",
              "    }\n",
              "\n",
              "    .dataframe tbody tr th {\n",
              "        vertical-align: top;\n",
              "    }\n",
              "\n",
              "    .dataframe thead th {\n",
              "        text-align: right;\n",
              "    }\n",
              "</style>\n",
              "<table border=\"1\" class=\"dataframe\">\n",
              "  <thead>\n",
              "    <tr style=\"text-align: right;\">\n",
              "      <th></th>\n",
              "      <th>Brand</th>\n",
              "      <th>Variety</th>\n",
              "      <th>Style</th>\n",
              "      <th>Country</th>\n",
              "      <th>Stars</th>\n",
              "      <th>TopTen</th>\n",
              "    </tr>\n",
              "  </thead>\n",
              "  <tbody>\n",
              "    <tr>\n",
              "      <th>0</th>\n",
              "      <td>New Touch</td>\n",
              "      <td>T's Restaurant Tantanmen</td>\n",
              "      <td>Cup</td>\n",
              "      <td>Japan</td>\n",
              "      <td>3.75</td>\n",
              "      <td>NaN</td>\n",
              "    </tr>\n",
              "    <tr>\n",
              "      <th>5</th>\n",
              "      <td>Just Way</td>\n",
              "      <td>Noodles Spicy Hot Sesame Spicy Hot Sesame Guan...</td>\n",
              "      <td>Pack</td>\n",
              "      <td>Taiwan</td>\n",
              "      <td>1.00</td>\n",
              "      <td>NaN</td>\n",
              "    </tr>\n",
              "    <tr>\n",
              "      <th>6</th>\n",
              "      <td>Nissin</td>\n",
              "      <td>Cup Noodles Chicken Vegetable</td>\n",
              "      <td>Cup</td>\n",
              "      <td>USA</td>\n",
              "      <td>2.25</td>\n",
              "      <td>NaN</td>\n",
              "    </tr>\n",
              "    <tr>\n",
              "      <th>7</th>\n",
              "      <td>Wei Lih</td>\n",
              "      <td>GGE Ramen Snack Tomato Flavor</td>\n",
              "      <td>Pack</td>\n",
              "      <td>Taiwan</td>\n",
              "      <td>2.75</td>\n",
              "      <td>NaN</td>\n",
              "    </tr>\n",
              "    <tr>\n",
              "      <th>8</th>\n",
              "      <td>Ching's Secret</td>\n",
              "      <td>Singapore Curry</td>\n",
              "      <td>Pack</td>\n",
              "      <td>India</td>\n",
              "      <td>3.75</td>\n",
              "      <td>NaN</td>\n",
              "    </tr>\n",
              "    <tr>\n",
              "      <th>...</th>\n",
              "      <td>...</td>\n",
              "      <td>...</td>\n",
              "      <td>...</td>\n",
              "      <td>...</td>\n",
              "      <td>...</td>\n",
              "      <td>...</td>\n",
              "    </tr>\n",
              "    <tr>\n",
              "      <th>2579</th>\n",
              "      <td>Vifon</td>\n",
              "      <td>Hu Tiu Nam Vang [\"Phnom Penh\" style] Asian Sty...</td>\n",
              "      <td>Bowl</td>\n",
              "      <td>Vietnam</td>\n",
              "      <td>3.50</td>\n",
              "      <td>NaN</td>\n",
              "    </tr>\n",
              "    <tr>\n",
              "      <th>2580</th>\n",
              "      <td>Wai Wai</td>\n",
              "      <td>Oriental Style Instant Noodles</td>\n",
              "      <td>Pack</td>\n",
              "      <td>Thailand</td>\n",
              "      <td>1.00</td>\n",
              "      <td>NaN</td>\n",
              "    </tr>\n",
              "    <tr>\n",
              "      <th>2581</th>\n",
              "      <td>Wai Wai</td>\n",
              "      <td>Tom Yum Shrimp</td>\n",
              "      <td>Pack</td>\n",
              "      <td>Thailand</td>\n",
              "      <td>2.00</td>\n",
              "      <td>NaN</td>\n",
              "    </tr>\n",
              "    <tr>\n",
              "      <th>2582</th>\n",
              "      <td>Wai Wai</td>\n",
              "      <td>Tom Yum Chili Flavor</td>\n",
              "      <td>Pack</td>\n",
              "      <td>Thailand</td>\n",
              "      <td>2.00</td>\n",
              "      <td>NaN</td>\n",
              "    </tr>\n",
              "    <tr>\n",
              "      <th>2583</th>\n",
              "      <td>Westbrae</td>\n",
              "      <td>Miso Ramen</td>\n",
              "      <td>Pack</td>\n",
              "      <td>USA</td>\n",
              "      <td>0.50</td>\n",
              "      <td>NaN</td>\n",
              "    </tr>\n",
              "  </tbody>\n",
              "</table>\n",
              "<p>2580 rows × 6 columns</p>\n",
              "</div>"
            ],
            "text/plain": [
              "               Brand                                            Variety Style  \\\n",
              "0          New Touch                          T's Restaurant Tantanmen    Cup   \n",
              "5           Just Way  Noodles Spicy Hot Sesame Spicy Hot Sesame Guan...  Pack   \n",
              "6             Nissin                      Cup Noodles Chicken Vegetable   Cup   \n",
              "7            Wei Lih                      GGE Ramen Snack Tomato Flavor  Pack   \n",
              "8     Ching's Secret                                    Singapore Curry  Pack   \n",
              "...              ...                                                ...   ...   \n",
              "2579           Vifon  Hu Tiu Nam Vang [\"Phnom Penh\" style] Asian Sty...  Bowl   \n",
              "2580         Wai Wai                     Oriental Style Instant Noodles  Pack   \n",
              "2581         Wai Wai                                     Tom Yum Shrimp  Pack   \n",
              "2582         Wai Wai                               Tom Yum Chili Flavor  Pack   \n",
              "2583        Westbrae                                         Miso Ramen  Pack   \n",
              "\n",
              "       Country  Stars TopTen  \n",
              "0        Japan   3.75    NaN  \n",
              "5       Taiwan   1.00    NaN  \n",
              "6          USA   2.25    NaN  \n",
              "7       Taiwan   2.75    NaN  \n",
              "8        India   3.75    NaN  \n",
              "...        ...    ...    ...  \n",
              "2579   Vietnam   3.50    NaN  \n",
              "2580  Thailand   1.00    NaN  \n",
              "2581  Thailand   2.00    NaN  \n",
              "2582  Thailand   2.00    NaN  \n",
              "2583       USA   0.50    NaN  \n",
              "\n",
              "[2580 rows x 6 columns]"
            ]
          },
          "execution_count": 72,
          "metadata": {},
          "output_type": "execute_result"
        }
      ],
      "source": [
        "#because there is a space in the column Top Ten, you can use .\n",
        "df.columns = ['Brand','Variety', 'Style', 'Country', 'Stars', 'TopTen']\n",
        "df"
      ]
    },
    {
      "cell_type": "markdown",
      "metadata": {
        "id": "pu1b75QStaD4"
      },
      "source": [
        "# 9. Deal with Nulls"
      ]
    },
    {
      "cell_type": "code",
      "execution_count": 73,
      "metadata": {
        "colab": {
          "base_uri": "https://localhost:8080/"
        },
        "id": "0h3pRK6UlXt2",
        "outputId": "ea447c07-84e8-49ff-a363-1c337072c356"
      },
      "outputs": [
        {
          "name": "stdout",
          "output_type": "stream",
          "text": [
            "<class 'pandas.core.frame.DataFrame'>\n",
            "Int64Index: 2580 entries, 0 to 2583\n",
            "Data columns (total 6 columns):\n",
            " #   Column   Non-Null Count  Dtype  \n",
            "---  ------   --------------  -----  \n",
            " 0   Brand    2580 non-null   object \n",
            " 1   Variety  2580 non-null   object \n",
            " 2   Style    2578 non-null   object \n",
            " 3   Country  2580 non-null   object \n",
            " 4   Stars    2580 non-null   float64\n",
            " 5   TopTen   41 non-null     object \n",
            "dtypes: float64(1), object(5)\n",
            "memory usage: 221.1+ KB\n"
          ]
        }
      ],
      "source": [
        "df.info()"
      ]
    },
    {
      "cell_type": "code",
      "execution_count": 75,
      "metadata": {
        "colab": {
          "base_uri": "https://localhost:8080/"
        },
        "id": "bxvrhWWWshB-",
        "outputId": "5a8734ed-0c01-401b-ac7b-79a40fdb57cc"
      },
      "outputs": [
        {
          "data": {
            "text/plain": [
              "\\r\\n        4\n",
              "2014 #9     1\n",
              "2012 #5     1\n",
              "2015 #10    1\n",
              "2016 #10    1\n",
              "2013 #6     1\n",
              "2014 #10    1\n",
              "2012 #2     1\n",
              "2012 #4     1\n",
              "2014 #6     1\n",
              "2016 #7     1\n",
              "2016 #1     1\n",
              "2013 #10    1\n",
              "2014 #1     1\n",
              "2013 #2     1\n",
              "2014 #4     1\n",
              "2012 #6     1\n",
              "2013 #4     1\n",
              "2015 #4     1\n",
              "2012 #1     1\n",
              "2015 #1     1\n",
              "2016 #5     1\n",
              "2014 #7     1\n",
              "2016 #9     1\n",
              "2013 #1     1\n",
              "2015 #7     1\n",
              "2012 #3     1\n",
              "2013 #9     1\n",
              "2016 #8     1\n",
              "2015 #8     1\n",
              "2012 #9     1\n",
              "2015 #6     1\n",
              "2014 #5     1\n",
              "2013 #3     1\n",
              "2015 #9     1\n",
              "2012 #7     1\n",
              "2014 #8     1\n",
              "2012 #10    1\n",
              "Name: TopTen, dtype: int64"
            ]
          },
          "execution_count": 75,
          "metadata": {},
          "output_type": "execute_result"
        }
      ],
      "source": [
        "df.TopTen.value_counts()"
      ]
    },
    {
      "cell_type": "code",
      "execution_count": 77,
      "metadata": {
        "colab": {
          "base_uri": "https://localhost:8080/",
          "height": 111
        },
        "id": "XY-8MKV8qebI",
        "outputId": "b3ad1ee6-7a60-4cb5-f574-a4b4de0be88b"
      },
      "outputs": [],
      "source": [
        "df.TopTen.fillna(0, inplace = True)"
      ]
    },
    {
      "cell_type": "code",
      "execution_count": 78,
      "metadata": {
        "id": "cxoPHQfjljPZ"
      },
      "outputs": [
        {
          "name": "stdout",
          "output_type": "stream",
          "text": [
            "<class 'pandas.core.frame.DataFrame'>\n",
            "Int64Index: 2580 entries, 0 to 2583\n",
            "Data columns (total 6 columns):\n",
            " #   Column   Non-Null Count  Dtype  \n",
            "---  ------   --------------  -----  \n",
            " 0   Brand    2580 non-null   object \n",
            " 1   Variety  2580 non-null   object \n",
            " 2   Style    2578 non-null   object \n",
            " 3   Country  2580 non-null   object \n",
            " 4   Stars    2580 non-null   float64\n",
            " 5   TopTen   2580 non-null   object \n",
            "dtypes: float64(1), object(5)\n",
            "memory usage: 221.1+ KB\n"
          ]
        }
      ],
      "source": [
        "df.info()"
      ]
    },
    {
      "cell_type": "code",
      "execution_count": null,
      "metadata": {
        "colab": {
          "base_uri": "https://localhost:8080/"
        },
        "id": "3KdDDNonnNvw",
        "outputId": "52311bda-8304-4ef5-a139-8f069b6bf1f9"
      },
      "outputs": [],
      "source": []
    },
    {
      "cell_type": "markdown",
      "metadata": {
        "id": "FEu6k-a-vU6c"
      },
      "source": [
        "# 10. Group and Order\n"
      ]
    }
  ],
  "metadata": {
    "colab": {
      "authorship_tag": "ABX9TyPG+ssWMxKywRQDkeiR9E1U",
      "include_colab_link": true,
      "mount_file_id": "1V16IS1TA0CmRy78Zy03QMP9hHtjmYEcW",
      "name": "EDA_10Steps.ipynb",
      "provenance": []
    },
    "kernelspec": {
      "display_name": "Python 3.8.5 ('base')",
      "language": "python",
      "name": "python3"
    },
    "language_info": {
      "codemirror_mode": {
        "name": "ipython",
        "version": 3
      },
      "file_extension": ".py",
      "mimetype": "text/x-python",
      "name": "python",
      "nbconvert_exporter": "python",
      "pygments_lexer": "ipython3",
      "version": "3.8.5"
    },
    "vscode": {
      "interpreter": {
        "hash": "c471063a423a12bc31c75690bebc4e46aa16be278dfa940fb5a0a9b8b4b1bcfc"
      }
    }
  },
  "nbformat": 4,
  "nbformat_minor": 0
}
